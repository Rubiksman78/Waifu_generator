{
 "cells": [
  {
   "cell_type": "markdown",
   "metadata": {},
   "source": [
    "# Baseline pour le DCGAN"
   ]
  },
  {
   "cell_type": "markdown",
   "metadata": {},
   "source": [
    "## Chargement du dataset"
   ]
  },
  {
   "cell_type": "code",
   "execution_count": null,
   "metadata": {},
   "outputs": [],
   "source": [
    "import tensorflow as tf\n",
    "\n",
    "batch_size = ...\n",
    "\n",
    "def normalize(image):\n",
    "    #Normaliser les images de [0,255] dans [-1,1]\n",
    "\n",
    "dataset = tf.keras.utils.image_dataset_from_directory(\n",
    "    \"path_dataset\",\n",
    "    labels = None,\n",
    "    batch_size = batch_size\n",
    "    shuffle = True\n",
    ").map(normalize)"
   ]
  },
  {
   "cell_type": "markdown",
   "metadata": {},
   "source": [
    "## Affichage des images"
   ]
  },
  {
   "cell_type": "code",
   "execution_count": null,
   "metadata": {},
   "outputs": [],
   "source": [
    "import matplotlib.pyplot as plt\n",
    "\n",
    "def show_pairs(images):\n",
    "    for batch in images.take(1): #Mettre le nombre de batchs que vous voulez voir\n",
    "        for image in enumerate(batch):\n",
    "            figure = plt.figure(figsize=(5,5))\n",
    "            plt.subplot(1,2,1)\n",
    "            plt.axis('off')\n",
    "            plt.imshow(image)\n",
    "    plt.show()\n",
    "\n",
    "show_pairs(dataset)"
   ]
  },
  {
   "cell_type": "markdown",
   "metadata": {},
   "source": [
    "## Architecture du GAN"
   ]
  },
  {
   "cell_type": "markdown",
   "metadata": {},
   "source": [
    "## Classe GAN"
   ]
  },
  {
   "cell_type": "markdown",
   "metadata": {},
   "source": [
    "## Callbacks (sauvegarder les images et les poids)"
   ]
  },
  {
   "cell_type": "markdown",
   "metadata": {},
   "source": [
    "## Assemblage de tout"
   ]
  }
 ],
 "metadata": {
  "language_info": {
   "name": "python"
  },
  "orig_nbformat": 4
 },
 "nbformat": 4,
 "nbformat_minor": 2
}
